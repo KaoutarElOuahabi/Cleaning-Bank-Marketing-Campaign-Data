{
 "cells": [
  {
   "cell_type": "markdown",
   "id": "02077ee3-e1e4-4fc5-8de1-16e987afa5fb",
   "metadata": {},
   "source": [
    "<img src=\"bank_marketing.webp\" style=\"width: calc(100% - 10px); height: 400px; margin: 5px;\">\n",
    "\n",
    "## Personal Loan Campaign Data Cleaning\n",
    "\n",
    "### Project Overview\n",
    "\n",
    "Personal loans are a key revenue source for banks. In the UK, the average interest rate on a two-year personal loan is around 10%. In September 2022 alone, UK consumers borrowed **£1.5 billion**, generating about **£300 million in interest** over two years.\n",
    "\n",
    "In this project, you’ll clean and prepare data from a marketing campaign aimed at increasing personal loan sign-ups. The bank intends to use this data for future campaigns, so the cleaned data must adhere to a specific structure and set of data types.\n",
    "\n",
    "You are provided with the CSV file `\"bank_marketing.csv\"`, which you’ll clean, reformat, and split into three separate CSV files for further use. \n"
   ]
  },
  {
   "cell_type": "code",
   "execution_count": 14,
   "id": "fb94e51f-94cd-45a8-b17d-41470cb163f3",
   "metadata": {
    "collapsed": false,
    "executionCancelledAt": null,
    "executionTime": 71,
    "jupyter": {
     "outputs_hidden": false,
     "source_hidden": false
    },
    "lastExecutedAt": 1736023714746,
    "lastExecutedByKernel": "e8aeb478-b8e0-4302-987b-99157646b9c7",
    "lastScheduledRunId": null,
    "lastSuccessfullyExecutedCode": "import pandas as pd\n\n# Step 1: Load the CSV File\ndata = pd.read_csv(\"bank_marketing.csv\")\n\n# Step 2: Understand the Data\nprint(data)",
    "outputsMetadata": {
     "0": {
      "height": 311,
      "type": "stream"
     }
    }
   },
   "outputs": [
    {
     "name": "stdout",
     "output_type": "stream",
     "text": [
      "       client_id  age          job  marital            education  \\\n",
      "0              0   56    housemaid  married             basic.4y   \n",
      "1              1   57     services  married          high.school   \n",
      "2              2   37     services  married          high.school   \n",
      "3              3   40       admin.  married             basic.6y   \n",
      "4              4   56     services  married          high.school   \n",
      "...          ...  ...          ...      ...                  ...   \n",
      "41183      41183   73      retired  married  professional.course   \n",
      "41184      41184   46  blue-collar  married  professional.course   \n",
      "41185      41185   56      retired  married    university.degree   \n",
      "41186      41186   44   technician  married  professional.course   \n",
      "41187      41187   74      retired  married  professional.course   \n",
      "\n",
      "      credit_default mortgage month  day  contact_duration  number_contacts  \\\n",
      "0                 no       no   may   13               261                1   \n",
      "1            unknown       no   may   19               149                1   \n",
      "2                 no      yes   may   23               226                1   \n",
      "3                 no       no   may   27               151                1   \n",
      "4                 no       no   may    3               307                1   \n",
      "...              ...      ...   ...  ...               ...              ...   \n",
      "41183             no      yes   nov   30               334                1   \n",
      "41184             no       no   nov    6               383                1   \n",
      "41185             no      yes   nov   24               189                2   \n",
      "41186             no       no   nov   17               442                1   \n",
      "41187             no      yes   nov   23               239                3   \n",
      "\n",
      "       previous_campaign_contacts previous_outcome  cons_price_idx  \\\n",
      "0                               0      nonexistent          93.994   \n",
      "1                               0      nonexistent          93.994   \n",
      "2                               0      nonexistent          93.994   \n",
      "3                               0      nonexistent          93.994   \n",
      "4                               0      nonexistent          93.994   \n",
      "...                           ...              ...             ...   \n",
      "41183                           0      nonexistent          94.767   \n",
      "41184                           0      nonexistent          94.767   \n",
      "41185                           0      nonexistent          94.767   \n",
      "41186                           0      nonexistent          94.767   \n",
      "41187                           1          failure          94.767   \n",
      "\n",
      "       euribor_three_months campaign_outcome  \n",
      "0                     4.857               no  \n",
      "1                     4.857               no  \n",
      "2                     4.857               no  \n",
      "3                     4.857               no  \n",
      "4                     4.857               no  \n",
      "...                     ...              ...  \n",
      "41183                 1.028              yes  \n",
      "41184                 1.028               no  \n",
      "41185                 1.028               no  \n",
      "41186                 1.028              yes  \n",
      "41187                 1.028               no  \n",
      "\n",
      "[41188 rows x 16 columns]\n"
     ]
    }
   ],
   "source": [
    "import pandas as pd\n",
    "import numpy as np\n",
    "\n",
    "\n",
    "# Step 1: Load the CSV File\n",
    "data = pd.read_csv(\"Input_Data/bank_marketing.csv\")\n",
    "\n",
    "# Step 2: Understand the Data\n",
    "print(data)"
   ]
  },
  {
   "cell_type": "code",
   "execution_count": 15,
   "id": "789099e1-c4d2-40f8-8e03-78350733dcbf",
   "metadata": {
    "collapsed": false,
    "executionCancelledAt": null,
    "executionTime": 47,
    "jupyter": {
     "outputs_hidden": false,
     "source_hidden": false
    },
    "lastExecutedAt": 1736023714793,
    "lastExecutedByKernel": "e8aeb478-b8e0-4302-987b-99157646b9c7",
    "lastScheduledRunId": null,
    "lastSuccessfullyExecutedCode": "print(data.columns)",
    "outputsMetadata": {
     "0": {
      "height": 122,
      "type": "stream"
     }
    }
   },
   "outputs": [
    {
     "name": "stdout",
     "output_type": "stream",
     "text": [
      "Index(['client_id', 'age', 'job', 'marital', 'education', 'credit_default',\n",
      "       'mortgage', 'month', 'day', 'contact_duration', 'number_contacts',\n",
      "       'previous_campaign_contacts', 'previous_outcome', 'cons_price_idx',\n",
      "       'euribor_three_months', 'campaign_outcome'],\n",
      "      dtype='object')\n"
     ]
    }
   ],
   "source": [
    "print(data.columns)"
   ]
  },
  {
   "cell_type": "code",
   "execution_count": 16,
   "id": "6f5310a0-c91f-4558-a1ee-76e22b85973b",
   "metadata": {
    "executionCancelledAt": null,
    "executionTime": 53,
    "lastExecutedAt": 1736023714846,
    "lastExecutedByKernel": "e8aeb478-b8e0-4302-987b-99157646b9c7",
    "lastScheduledRunId": null,
    "lastSuccessfullyExecutedCode": "print(data.info())",
    "outputsMetadata": {
     "0": {
      "height": 521,
      "type": "stream"
     }
    }
   },
   "outputs": [
    {
     "name": "stdout",
     "output_type": "stream",
     "text": [
      "<class 'pandas.core.frame.DataFrame'>\n",
      "RangeIndex: 41188 entries, 0 to 41187\n",
      "Data columns (total 16 columns):\n",
      " #   Column                      Non-Null Count  Dtype  \n",
      "---  ------                      --------------  -----  \n",
      " 0   client_id                   41188 non-null  int64  \n",
      " 1   age                         41188 non-null  int64  \n",
      " 2   job                         41188 non-null  object \n",
      " 3   marital                     41188 non-null  object \n",
      " 4   education                   41188 non-null  object \n",
      " 5   credit_default              41188 non-null  object \n",
      " 6   mortgage                    41188 non-null  object \n",
      " 7   month                       41188 non-null  object \n",
      " 8   day                         41188 non-null  int64  \n",
      " 9   contact_duration            41188 non-null  int64  \n",
      " 10  number_contacts             41188 non-null  int64  \n",
      " 11  previous_campaign_contacts  41188 non-null  int64  \n",
      " 12  previous_outcome            41188 non-null  object \n",
      " 13  cons_price_idx              41188 non-null  float64\n",
      " 14  euribor_three_months        41188 non-null  float64\n",
      " 15  campaign_outcome            41188 non-null  object \n",
      "dtypes: float64(2), int64(6), object(8)\n",
      "memory usage: 5.0+ MB\n",
      "None\n"
     ]
    }
   ],
   "source": [
    "print(data.info())"
   ]
  },
  {
   "cell_type": "code",
   "execution_count": 17,
   "id": "64b8d5e4-36e9-41e0-be58-0081bbdb7f4e",
   "metadata": {
    "collapsed": false,
    "executionCancelledAt": null,
    "executionTime": 50,
    "jupyter": {
     "outputs_hidden": false,
     "source_hidden": false
    },
    "lastExecutedAt": 1736023714896,
    "lastExecutedByKernel": "e8aeb478-b8e0-4302-987b-99157646b9c7",
    "lastScheduledRunId": null,
    "lastSuccessfullyExecutedCode": "# Step 3: Split the Data\n# Define the columns for each DataFrame based on requirements\nclient_columns = [\"client_id\", \"age\", \"job\", \"marital\", \"education\", \"credit_default\", \"mortgage\"]\ncampaign_columns = [\"client_id\", \"number_contacts\", \"month\", \"day\",\"contact_duration\", \"previous_campaign_contacts\", \"previous_outcome\", \"campaign_outcome\"]\neconomics_columns = [\"client_id\", \"cons_price_idx\", \"euribor_three_months\"]\n\n# Create separate DataFrames\nclient = data[client_columns]\ncampaign = data[campaign_columns]\neconomics = data[economics_columns]"
   },
   "outputs": [],
   "source": [
    "# Step 3: Split the Data\n",
    "# Define the columns for each DataFrame based on requirements\n",
    "client_columns = [\"client_id\", \"age\", \"job\", \"marital\", \"education\", \"credit_default\", \"mortgage\"]\n",
    "campaign_columns = [\"client_id\", \"number_contacts\", \"month\", \"day\",\"contact_duration\", \"previous_campaign_contacts\", \"previous_outcome\", \"campaign_outcome\"]\n",
    "economics_columns = [\"client_id\", \"cons_price_idx\", \"euribor_three_months\"]\n",
    "\n",
    "# Create separate DataFrames\n",
    "client = data[client_columns].copy()\n",
    "campaign = data[campaign_columns].copy()\n",
    "economics = data[economics_columns].copy()"
   ]
  },
  {
   "cell_type": "code",
   "execution_count": 18,
   "id": "1074d136-fcc7-4c5b-b89b-016d119dfc70",
   "metadata": {
    "collapsed": false,
    "executionCancelledAt": null,
    "executionTime": 64,
    "jupyter": {
     "outputs_hidden": false,
     "source_hidden": false
    },
    "lastExecutedAt": 1736023714960,
    "lastExecutedByKernel": "e8aeb478-b8e0-4302-987b-99157646b9c7",
    "lastScheduledRunId": null,
    "lastSuccessfullyExecutedCode": "# step 4 : Clean and Format\n\n# Editing the client dataset\n\n# Clean job column\nclient[\"job\"] = client[\"job\"].str.replace(\".\", \"_\")\n# Clean education column\nclient[\"education\"] = client[\"education\"].str.replace(\".\", \"_\")\nclient[\"education\"] = client[\"education\"].replace(\"unknown\", np.NaN)\n\n# Clean and convert client columns to bool data type\nfor col in [\"credit_default\", \"mortgage\"]:\n    client[col] = client[col].apply(lambda x: 1 if x == \"yes\" else 0)\n    client[col] = client[col].astype(bool)\n"
   },
   "outputs": [],
   "source": [
    "# step 4 : Clean and Format\n",
    "\n",
    "# Editing the client dataset\n",
    "\n",
    "# Clean job column\n",
    "client[\"job\"] = client[\"job\"].str.replace(\".\", \"_\")\n",
    "# Clean education column\n",
    "client[\"education\"] = client[\"education\"].str.replace(\".\", \"_\")\n",
    "client[\"education\"] = client[\"education\"].replace(\"unknown\", np.NaN)\n",
    "\n",
    "# Clean and convert client columns to bool data type\n",
    "for col in [\"credit_default\", \"mortgage\"]:\n",
    "    client[col] = client[col].apply(lambda x: 1 if x == \"yes\" else 0)\n",
    "    client[col] = client[col].astype(bool)\n"
   ]
  },
  {
   "cell_type": "code",
   "execution_count": 19,
   "id": "9f7fbf22-908a-4a71-91f8-b34a888af161",
   "metadata": {
    "collapsed": false,
    "executionCancelledAt": null,
    "executionTime": 56,
    "jupyter": {
     "outputs_hidden": false,
     "source_hidden": false
    },
    "lastExecutedAt": 1736023715016,
    "lastExecutedByKernel": "e8aeb478-b8e0-4302-987b-99157646b9c7",
    "lastScheduledRunId": null,
    "lastSuccessfullyExecutedCode": "print(client)",
    "outputsMetadata": {
     "0": {
      "height": 311,
      "type": "stream"
     }
    }
   },
   "outputs": [
    {
     "name": "stdout",
     "output_type": "stream",
     "text": [
      "       client_id  age          job  marital            education  \\\n",
      "0              0   56    housemaid  married             basic_4y   \n",
      "1              1   57     services  married          high_school   \n",
      "2              2   37     services  married          high_school   \n",
      "3              3   40       admin_  married             basic_6y   \n",
      "4              4   56     services  married          high_school   \n",
      "...          ...  ...          ...      ...                  ...   \n",
      "41183      41183   73      retired  married  professional_course   \n",
      "41184      41184   46  blue-collar  married  professional_course   \n",
      "41185      41185   56      retired  married    university_degree   \n",
      "41186      41186   44   technician  married  professional_course   \n",
      "41187      41187   74      retired  married  professional_course   \n",
      "\n",
      "       credit_default  mortgage  \n",
      "0               False     False  \n",
      "1               False     False  \n",
      "2               False      True  \n",
      "3               False     False  \n",
      "4               False     False  \n",
      "...               ...       ...  \n",
      "41183           False      True  \n",
      "41184           False     False  \n",
      "41185           False      True  \n",
      "41186           False     False  \n",
      "41187           False      True  \n",
      "\n",
      "[41188 rows x 7 columns]\n"
     ]
    }
   ],
   "source": [
    "print(client)"
   ]
  },
  {
   "cell_type": "code",
   "execution_count": 20,
   "id": "3c31e6df-f14f-4efa-b1d6-d47b11f42e38",
   "metadata": {
    "collapsed": false,
    "executionCancelledAt": null,
    "executionTime": 61,
    "jupyter": {
     "outputs_hidden": false,
     "source_hidden": false
    },
    "lastExecutedAt": 1736023715077,
    "lastExecutedByKernel": "e8aeb478-b8e0-4302-987b-99157646b9c7",
    "lastScheduledRunId": null,
    "lastSuccessfullyExecutedCode": "# Print column names and data types to understand structure\nprint(client.info())",
    "outputsMetadata": {
     "0": {
      "height": 332,
      "type": "stream"
     }
    }
   },
   "outputs": [
    {
     "name": "stdout",
     "output_type": "stream",
     "text": [
      "<class 'pandas.core.frame.DataFrame'>\n",
      "RangeIndex: 41188 entries, 0 to 41187\n",
      "Data columns (total 7 columns):\n",
      " #   Column          Non-Null Count  Dtype \n",
      "---  ------          --------------  ----- \n",
      " 0   client_id       41188 non-null  int64 \n",
      " 1   age             41188 non-null  int64 \n",
      " 2   job             41188 non-null  object\n",
      " 3   marital         41188 non-null  object\n",
      " 4   education       39457 non-null  object\n",
      " 5   credit_default  41188 non-null  bool  \n",
      " 6   mortgage        41188 non-null  bool  \n",
      "dtypes: bool(2), int64(2), object(3)\n",
      "memory usage: 1.6+ MB\n",
      "None\n"
     ]
    }
   ],
   "source": [
    "# Print column names and data types to understand structure\n",
    "print(client.info())"
   ]
  },
  {
   "cell_type": "code",
   "execution_count": 21,
   "id": "75f441e9-2729-41c1-bd3d-39b515300123",
   "metadata": {
    "executionCancelledAt": null,
    "executionTime": 55,
    "lastExecutedAt": 1736023715132,
    "lastExecutedByKernel": "e8aeb478-b8e0-4302-987b-99157646b9c7",
    "lastScheduledRunId": null,
    "lastSuccessfullyExecutedCode": "# Editing the campaign dataset\n# Change campaign_outcome to binary values\ncampaign[\"campaign_outcome\"] = campaign[\"campaign_outcome\"].map({\"yes\": 1, \n                                                                 \"no\": 0})\n\n# Convert previous_outcome to binary values\ncampaign[\"previous_outcome\"] = campaign[\"previous_outcome\"].map({\"success\": 1, \n                                                                 \"failure\": 0,\n                                                                 \"nonexistent\": 0})\n\n# Add year column\ncampaign[\"year\"] = \"2022\"\n\n# Convert day to string\ncampaign[\"day\"] = campaign[\"day\"].astype(str)\n\n# Add last_contact_date column\ncampaign[\"last_contact_date\"] = campaign[\"year\"] + \"-\" + campaign[\"month\"] + \"-\" + campaign[\"day\"]\n\n# Convert to datetime\ncampaign[\"last_contact_date\"] = pd.to_datetime(campaign[\"last_contact_date\"], \n                                               format=\"%Y-%b-%d\")\n\n# Clean and convert outcome columns to bool\nfor col in [\"campaign_outcome\", \"previous_outcome\"]:\n  campaign[col] = campaign[col].astype(bool)\n\n# Drop unneccessary columns\ncampaign.drop(columns=[\"month\", \"day\", \"year\"], inplace=True)\n"
   },
   "outputs": [],
   "source": [
    "# Editing the campaign dataset\n",
    "# Change campaign_outcome to binary values\n",
    "campaign[\"campaign_outcome\"] = campaign[\"campaign_outcome\"].map({\"yes\": 1, \n",
    "                                                                 \"no\": 0})\n",
    "\n",
    "# Convert previous_outcome to binary values\n",
    "campaign[\"previous_outcome\"] = campaign[\"previous_outcome\"].map({\"success\": 1, \n",
    "                                                                 \"failure\": 0,\n",
    "                                                                 \"nonexistent\": 0})\n",
    "\n",
    "# Add year column\n",
    "campaign[\"year\"] = \"2022\"\n",
    "\n",
    "# Convert day to string\n",
    "campaign[\"day\"] = campaign[\"day\"].astype(str)\n",
    "\n",
    "# Add last_contact_date column\n",
    "campaign[\"last_contact_date\"] = campaign[\"year\"] + \"-\" + campaign[\"month\"] + \"-\" + campaign[\"day\"]\n",
    "\n",
    "# Convert to datetime\n",
    "campaign[\"last_contact_date\"] = pd.to_datetime(campaign[\"last_contact_date\"], \n",
    "                                               format=\"%Y-%b-%d\")\n",
    "\n",
    "# Clean and convert outcome columns to bool\n",
    "for col in [\"campaign_outcome\", \"previous_outcome\"]:\n",
    "  campaign[col] = campaign[col].astype(bool)\n",
    "\n",
    "# Drop unneccessary columns\n",
    "campaign.drop(columns=[\"month\", \"day\", \"year\"], inplace=True)\n"
   ]
  },
  {
   "cell_type": "code",
   "execution_count": 22,
   "id": "4af96122-fe68-4e4c-ab79-733f3ec86353",
   "metadata": {
    "executionCancelledAt": null,
    "executionTime": 60,
    "lastExecutedAt": 1736023715192,
    "lastExecutedByKernel": "e8aeb478-b8e0-4302-987b-99157646b9c7",
    "lastScheduledRunId": null,
    "lastSuccessfullyExecutedCode": "print(campaign)",
    "outputsMetadata": {
     "0": {
      "height": 311,
      "type": "stream"
     }
    }
   },
   "outputs": [
    {
     "name": "stdout",
     "output_type": "stream",
     "text": [
      "       client_id  number_contacts  contact_duration  \\\n",
      "0              0                1               261   \n",
      "1              1                1               149   \n",
      "2              2                1               226   \n",
      "3              3                1               151   \n",
      "4              4                1               307   \n",
      "...          ...              ...               ...   \n",
      "41183      41183                1               334   \n",
      "41184      41184                1               383   \n",
      "41185      41185                2               189   \n",
      "41186      41186                1               442   \n",
      "41187      41187                3               239   \n",
      "\n",
      "       previous_campaign_contacts  previous_outcome  campaign_outcome  \\\n",
      "0                               0             False             False   \n",
      "1                               0             False             False   \n",
      "2                               0             False             False   \n",
      "3                               0             False             False   \n",
      "4                               0             False             False   \n",
      "...                           ...               ...               ...   \n",
      "41183                           0             False              True   \n",
      "41184                           0             False             False   \n",
      "41185                           0             False             False   \n",
      "41186                           0             False              True   \n",
      "41187                           1             False             False   \n",
      "\n",
      "      last_contact_date  \n",
      "0            2022-05-13  \n",
      "1            2022-05-19  \n",
      "2            2022-05-23  \n",
      "3            2022-05-27  \n",
      "4            2022-05-03  \n",
      "...                 ...  \n",
      "41183        2022-11-30  \n",
      "41184        2022-11-06  \n",
      "41185        2022-11-24  \n",
      "41186        2022-11-17  \n",
      "41187        2022-11-23  \n",
      "\n",
      "[41188 rows x 7 columns]\n"
     ]
    }
   ],
   "source": [
    "print(campaign)"
   ]
  },
  {
   "cell_type": "code",
   "execution_count": 23,
   "id": "5f3d64c4-933a-4bf4-9cb3-2665666717ff",
   "metadata": {
    "executionCancelledAt": null,
    "executionTime": 49,
    "lastExecutedAt": 1736023715241,
    "lastExecutedByKernel": "e8aeb478-b8e0-4302-987b-99157646b9c7",
    "lastScheduledRunId": null,
    "lastSuccessfullyExecutedCode": "# Print column names and data types to understand structure\nprint(campaign.info())",
    "outputsMetadata": {
     "0": {
      "height": 332,
      "type": "stream"
     }
    }
   },
   "outputs": [
    {
     "name": "stdout",
     "output_type": "stream",
     "text": [
      "<class 'pandas.core.frame.DataFrame'>\n",
      "RangeIndex: 41188 entries, 0 to 41187\n",
      "Data columns (total 7 columns):\n",
      " #   Column                      Non-Null Count  Dtype         \n",
      "---  ------                      --------------  -----         \n",
      " 0   client_id                   41188 non-null  int64         \n",
      " 1   number_contacts             41188 non-null  int64         \n",
      " 2   contact_duration            41188 non-null  int64         \n",
      " 3   previous_campaign_contacts  41188 non-null  int64         \n",
      " 4   previous_outcome            41188 non-null  bool          \n",
      " 5   campaign_outcome            41188 non-null  bool          \n",
      " 6   last_contact_date           41188 non-null  datetime64[ns]\n",
      "dtypes: bool(2), datetime64[ns](1), int64(4)\n",
      "memory usage: 1.6 MB\n",
      "None\n"
     ]
    }
   ],
   "source": [
    "# Print column names and data types to understand structure\n",
    "print(campaign.info())"
   ]
  },
  {
   "cell_type": "code",
   "execution_count": 24,
   "id": "49cdcd6c-95ca-4aa6-bd8c-c74c8b6dc2bb",
   "metadata": {
    "executionCancelledAt": null,
    "executionTime": 57,
    "lastExecutedAt": 1736023715298,
    "lastExecutedByKernel": "e8aeb478-b8e0-4302-987b-99157646b9c7",
    "lastScheduledRunId": null,
    "lastSuccessfullyExecutedCode": "print(economics)",
    "outputsMetadata": {
     "0": {
      "height": 311,
      "type": "stream"
     }
    }
   },
   "outputs": [
    {
     "name": "stdout",
     "output_type": "stream",
     "text": [
      "       client_id  cons_price_idx  euribor_three_months\n",
      "0              0          93.994                 4.857\n",
      "1              1          93.994                 4.857\n",
      "2              2          93.994                 4.857\n",
      "3              3          93.994                 4.857\n",
      "4              4          93.994                 4.857\n",
      "...          ...             ...                   ...\n",
      "41183      41183          94.767                 1.028\n",
      "41184      41184          94.767                 1.028\n",
      "41185      41185          94.767                 1.028\n",
      "41186      41186          94.767                 1.028\n",
      "41187      41187          94.767                 1.028\n",
      "\n",
      "[41188 rows x 3 columns]\n"
     ]
    }
   ],
   "source": [
    "print(economics)"
   ]
  },
  {
   "cell_type": "code",
   "execution_count": 25,
   "id": "a4930aa0-a4c6-4877-a3a2-52034eb533d2",
   "metadata": {
    "executionCancelledAt": null,
    "executionTime": 51,
    "lastExecutedAt": 1736023715349,
    "lastExecutedByKernel": "e8aeb478-b8e0-4302-987b-99157646b9c7",
    "lastScheduledRunId": null,
    "lastSuccessfullyExecutedCode": "# Print column names and data types to understand structure\nprint(economics.info())",
    "outputsMetadata": {
     "0": {
      "height": 248,
      "type": "stream"
     }
    }
   },
   "outputs": [
    {
     "name": "stdout",
     "output_type": "stream",
     "text": [
      "<class 'pandas.core.frame.DataFrame'>\n",
      "RangeIndex: 41188 entries, 0 to 41187\n",
      "Data columns (total 3 columns):\n",
      " #   Column                Non-Null Count  Dtype  \n",
      "---  ------                --------------  -----  \n",
      " 0   client_id             41188 non-null  int64  \n",
      " 1   cons_price_idx        41188 non-null  float64\n",
      " 2   euribor_three_months  41188 non-null  float64\n",
      "dtypes: float64(2), int64(1)\n",
      "memory usage: 965.5 KB\n",
      "None\n"
     ]
    }
   ],
   "source": [
    "# Print column names and data types to understand structure\n",
    "print(economics.info())"
   ]
  },
  {
   "cell_type": "code",
   "execution_count": 26,
   "id": "3aeb7dda-03cb-41a1-be8b-a462ebbff41d",
   "metadata": {
    "executionCancelledAt": null,
    "executionTime": 434,
    "lastExecutedAt": 1736023715783,
    "lastExecutedByKernel": "e8aeb478-b8e0-4302-987b-99157646b9c7",
    "lastScheduledRunId": null,
    "lastSuccessfullyExecutedCode": "# Step 5: Save the DataFrames\nclient.to_csv(\"client.csv\", index=False)\ncampaign.to_csv(\"campaign.csv\", index=False)\neconomics.to_csv(\"economics.csv\", index=False)\n\nprint(\"Files saved successfully!\")",
    "outputsMetadata": {
     "0": {
      "height": 38,
      "type": "stream"
     }
    }
   },
   "outputs": [
    {
     "name": "stdout",
     "output_type": "stream",
     "text": [
      "Files saved successfully!\n"
     ]
    }
   ],
   "source": [
    "# Step 5: Save the DataFrames\n",
    "client.to_csv(\"Output_Data/client.csv\", index=False)\n",
    "campaign.to_csv(\"Output_Data/campaign.csv\", index=False)\n",
    "economics.to_csv(\"Output_Data/economics.csv\", index=False)\n",
    "\n",
    "print(\"Files saved successfully!\")"
   ]
  }
 ],
 "metadata": {
  "editor": "DataCamp Workspace",
  "kernelspec": {
   "display_name": "Python 3 (ipykernel)",
   "language": "python",
   "name": "python3"
  },
  "language_info": {
   "codemirror_mode": {
    "name": "ipython",
    "version": 3
   },
   "file_extension": ".py",
   "mimetype": "text/x-python",
   "name": "python",
   "nbconvert_exporter": "python",
   "pygments_lexer": "ipython3",
   "version": "3.11.7"
  }
 },
 "nbformat": 4,
 "nbformat_minor": 5
}
